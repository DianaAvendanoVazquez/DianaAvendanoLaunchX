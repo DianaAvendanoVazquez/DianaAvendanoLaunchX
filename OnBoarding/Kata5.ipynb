{
 "cells": [
  {
   "cell_type": "markdown",
   "metadata": {},
   "source": [
    "# Ejercicio1 - Utilizar operadores aritméticos"
   ]
  },
  {
   "cell_type": "markdown",
   "metadata": {},
   "source": [
    "# Operadores aritméticos en Python\n",
    "\n",
    "Python proporciona operadores aritméticos comunes para que puedas realizar operaciones matemáticas en tu código. Estos incluyen las cuatro operaciones principales de suma, resta, multiplicación y división.\n",
    "\n",
    "Exploremos cómo podemos crear un programa que pueda calcular la distancia entre dos planetas. Comenzaremos usando dos distancias de planetas: Tierra (149.597.870 km) y Júpiter (778.547.200 km).\n",
    "\n",
    "TIP Dedica unos minutos a tratar de encontrar una solución. Luego desplázate hacia abajo hasta la parte inferior para ver si has logrado compilar el programa de acuerdo con las especificaciones.\n",
    "\n",
    "Nota: Quita las comas cuando uses los valores."
   ]
  },
  {
   "cell_type": "code",
   "execution_count": null,
   "metadata": {},
   "outputs": [],
   "source": [
    "# Crear variables para almacenar las dos distancias\n",
    "# ¡Asegúrate de quitar las comas!"
   ]
  },
  {
   "cell_type": "code",
   "execution_count": 1,
   "metadata": {},
   "outputs": [],
   "source": [
    "earth = 149597870; #distance from the earth to the sun in km\n",
    "\n",
    "jupiter = 778547200; #distance from jupiter to the sun in km"
   ]
  },
  {
   "cell_type": "code",
   "execution_count": 3,
   "metadata": {},
   "outputs": [
    {
     "name": "stdout",
     "output_type": "stream",
     "text": [
      "628949330\n",
      "390577533.93\n"
     ]
    }
   ],
   "source": [
    "#Distance between earth and jupiter in km\n",
    "\n",
    "dist= jupiter - earth;\n",
    "\n",
    "#tranform to miles\n",
    "distMiles = dist*0.621;\n"
   ]
  },
  {
   "cell_type": "markdown",
   "metadata": {},
   "source": [
    "# Realizar la operación\n",
    "\n",
    "Con los valores obtenidos, es el momento de añadir el código para realizar la operación. Restarás el primer planeta del segundo para determinar la distancia en kilómetros. A continuación, puedes convertir la distancia del kilómetro en millas multiplicándola por 0.621."
   ]
  },
  {
   "cell_type": "markdown",
   "metadata": {},
   "source": [
    "# Prueba tu proyecto\n",
    "\n",
    "Con el código creado, ejecuta el notebook para obtener el resultado. Deberías recibir lo siguiente:\n",
    "\n",
    "    628949330\n",
    "    390577534\n",
    "Recuerda: Lo importante es intentarlo, puedes auxiliarte de internet, libros, etc. El objetivo de una kata es la comprobación de la comprensión de la lección y su aplicación inmediata a la resolución de problemas. Go for it!"
   ]
  },
  {
   "cell_type": "code",
   "execution_count": 6,
   "metadata": {},
   "outputs": [
    {
     "name": "stdout",
     "output_type": "stream",
     "text": [
      "628949330\n",
      "390577534\n"
     ]
    }
   ],
   "source": [
    "print(dist);\n",
    "print(round(distMiles));"
   ]
  },
  {
   "cell_type": "markdown",
   "metadata": {},
   "source": [
    "# Ejercicio 2: convierte cadenas en números y usa valores absolutos\n",
    "\n",
    "Crear una aplicación para trabajar con números y entrada de usuario\n",
    "Con frecuencia, deberás convertir los valores de cadena en números para realizar correctamente diferentes operaciones o determinar el valor absoluto de un número.\n",
    "\n",
    "Para crear nuestra aplicación, queremos leer la distancia del sol para dos planetas, y luego mostrar la distancia entre los planetas. Haremos esto usando input para leer los valores, int para convertir a entero y luego abs para convertir el resultado en su valor absoluto.\n",
    "\n",
    "# Lee los valores\n",
    "Usando input, agrega el código para leer la distancia del sol para cada planeta, considerando 2 planetas."
   ]
  },
  {
   "cell_type": "code",
   "execution_count": null,
   "metadata": {},
   "outputs": [],
   "source": [
    "# Almacenar las entradas del usuario\n",
    "#Pista: variable = input(\"¿Cuál es tu nombre?\")"
   ]
  },
  {
   "cell_type": "code",
   "execution_count": 7,
   "metadata": {},
   "outputs": [
    {
     "name": "stdout",
     "output_type": "stream",
     "text": [
      "We will determine the distance between two planets\n",
      "Type th distance of a planet to the sun57900000\n",
      "Type th distance of another planet to the sun\t149600000\n"
     ]
    }
   ],
   "source": [
    "print(\"We will determine the distance between two planets\");\n",
    "input1 = input(\"Type th distance of a planet to the sun: \");\n",
    "input2 = input(\"Type th distance of another planet to the sun: \");"
   ]
  },
  {
   "cell_type": "markdown",
   "metadata": {},
   "source": [
    "# Convertir a número\n",
    "\n",
    "Debido a que input devuelve valores de cadena, necesitamos convertirlos en números. Para nuestro ejemplo, usaremos int"
   ]
  },
  {
   "cell_type": "code",
   "execution_count": null,
   "metadata": {},
   "outputs": [],
   "source": [
    "# Convierte las cadenas de ambos planetas a números enteros"
   ]
  },
  {
   "cell_type": "code",
   "execution_count": 8,
   "metadata": {},
   "outputs": [],
   "source": [
    "planet1 = int(input1);\n",
    "planet2 = int(input2);"
   ]
  },
  {
   "cell_type": "markdown",
   "metadata": {},
   "source": [
    "# Realizar el cálculo y convertir a valor absoluto\n",
    "\n",
    "Con los valores almacenados como números, ahora puedes agregar el código para realizar el cálculo, restando el primer planeta del segundo. Debido a que el segundo planeta podría ser un número mayor, usarás abs para convertirlo a un valor absoluto. También agregarás el código para mostrar el resultado en millas multiplicando la distancia del kilómetro por 0.621"
   ]
  },
  {
   "cell_type": "code",
   "execution_count": 10,
   "metadata": {},
   "outputs": [
    {
     "name": "stdout",
     "output_type": "stream",
     "text": [
      "91700000\n",
      "56945700.0\n"
     ]
    }
   ],
   "source": [
    "# Realizar el cálculo y determinar el valor absoluto\n",
    "\n",
    "distKm = abs(planet2 - planet1);\n",
    "\n",
    "# Convertir de KM a Millas\n",
    "\n",
    "distMiles = distKm*0.621;\n",
    "\n",
    "print(distKm);\n",
    "print(distMiles);"
   ]
  },
  {
   "cell_type": "markdown",
   "metadata": {},
   "source": [
    "Prueba tu aplicación\n",
    "Para probar el proyecto, ejecuta tu notebook. En la parte superior de vscode surgirá un cuadro de diálogo para que proporciones las distancias. Puede utilizar los datos de la tabla siguiente:\n",
    "\n",
    "    Planeta\tDistancia al sol\n",
    "    Mercurio\t57900000\n",
    "    Venus\t108200000\n",
    "    Tierra\t149600000\n",
    "    Marte\t227900000\n",
    "    Júpiter\t778600000\n",
    "    Saturno\t1433500000\n",
    "    Urano\t2872500000\n",
    "    Neptuno\t4495100000"
   ]
  },
  {
   "cell_type": "code",
   "execution_count": null,
   "metadata": {},
   "outputs": [],
   "source": []
  }
 ],
 "metadata": {
  "kernelspec": {
   "display_name": "Python 3",
   "language": "python",
   "name": "python3"
  },
  "language_info": {
   "codemirror_mode": {
    "name": "ipython",
    "version": 3
   },
   "file_extension": ".py",
   "mimetype": "text/x-python",
   "name": "python",
   "nbconvert_exporter": "python",
   "pygments_lexer": "ipython3",
   "version": "3.8.5"
  }
 },
 "nbformat": 4,
 "nbformat_minor": 4
}
